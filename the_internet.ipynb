{
 "cells": [
  {
   "cell_type": "markdown",
   "id": "8d604d62",
   "metadata": {},
   "source": [
    "# What to focus on\n",
    "\n",
    "as a developer/SWE, it's not necessary to understand every single detail of how things work at the networkign level (domain of network engineer)\n",
    "\n",
    "build a high level picture of how the underlying infra funcs so you can understand protocols operating at higher levels of abstraction, such as TCP and \n",
    "\n",
    "high level protocols such as TCP and HTTP are bound by physical limitations of the underlying network infrastructure \n",
    "\n",
    "think of protocols as logical sets of rules\n",
    "\n",
    "have a clear mental model of the internet protocol (IP)"
   ]
  }
 ],
 "metadata": {
  "language_info": {
   "name": "python"
  }
 },
 "nbformat": 4,
 "nbformat_minor": 5
}
