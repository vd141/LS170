{
 "cells": [
  {
   "cell_type": "markdown",
   "id": "8d604d62",
   "metadata": {},
   "source": [
    "# The Internet"
   ]
  },
  {
   "cell_type": "markdown",
   "id": "441534ce",
   "metadata": {},
   "source": [
    "## What to focus on\n",
    "\n",
    "as a developer/SWE, it's not necessary to understand every single detail of how things work at the networkign level (domain of network engineer)\n",
    "\n",
    "build a high level picture of how the underlying infra funcs so you can understand protocols operating at higher levels of abstraction, such as TCP and \n",
    "\n",
    "high level protocols such as TCP and HTTP are bound by physical limitations of the underlying network infrastructure \n",
    "\n",
    "think of protocols as logical sets of rules\n",
    "\n",
    "have a clear mental model of the internet protocol (IP)"
   ]
  },
  {
   "cell_type": "markdown",
   "id": "3909a65e",
   "metadata": {},
   "source": [
    "## what is the internet?\n",
    "code.org video\n",
    "    - bob kahn vint cerf worked on internet\n",
    "    - internet is result of arpanet (DoD) research project\n",
    "        - system designed to be a communication network that could survive a nuclear attack (distributed vs centralized network)\n",
    "        - idea was to send information as blocks in every direction possible through the mesh (distributed) network\n",
    "    - who controls the internet?\n",
    "        - no one/ everyone\n",
    "        - internet made up of large number of indep. operated networks\n",
    "        - operators of these networks control what their members can reach on other networks\n",
    "            - although operators are generally incentivized to maintain as much connectivity with other networks as possible because this leads to the utility that users expect from the internet\n",
    "\n"
   ]
  }
 ],
 "metadata": {
  "language_info": {
   "name": "python"
  }
 },
 "nbformat": 4,
 "nbformat_minor": 5
}
